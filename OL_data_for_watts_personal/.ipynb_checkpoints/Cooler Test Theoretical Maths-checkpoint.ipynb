{
 "cells": [
  {
   "cell_type": "markdown",
   "metadata": {},
   "source": [
    "### COOLER MATHS\n",
    "\n",
    "Collect here is the information and calculations to describe the theorhetical performance of our test system. Described here:\n",
    "![](test_schematic.png)"
   ]
  },
  {
   "cell_type": "markdown",
   "metadata": {},
   "source": [
    "#### FORCED AIR\n",
    "\n",
    "According to [altheatsupply HX](https://altheatsupply.com/heat-exchangers/water-to-air-heat-exchangers/60-000-btu-water-to-air-heat-exchanger.html), brochure page shows how much HX there should be. Here's the spec sheet:\n",
    "\n",
    "![](dragon_spec.png)\n",
    "\n",
    "$$ 3.5\" \\cdot 12\" \\cdot 12\" \\cdot 12 \\frac{fins}{inch} = 6,048 in^2 = 42 ft^2$$\n",
    "\n",
    "At 600CFM, 5GPM\n",
    "Entering Water Temperature: 180F\n",
    "Leaving Air Temperature: 133F\n",
    "Entering Air Temperature: 65F\n",
    "\n",
    "conveniently, this is 44,542 BTU/hr of heat transfer. \n",
    "\n",
    "can use this to solve for h $\\frac{kW}{m^2\\cdot{\\Delta T}}$"
   ]
  },
  {
   "cell_type": "code",
   "execution_count": 2,
   "metadata": {},
   "outputs": [],
   "source": [
    "import math"
   ]
  },
  {
   "cell_type": "code",
   "execution_count": 9,
   "metadata": {},
   "outputs": [
    {
     "data": {
      "text/plain": [
       "79.45302714656977"
      ]
     },
     "execution_count": 9,
     "metadata": {},
     "output_type": "execute_result"
    }
   ],
   "source": [
    "# first I need leaving water termperature. can be solved for by:\n",
    "m3_hr = 5 * 60 * 0.003785\n",
    "kW = 44542/3400\n",
    "T_in = 82.2\n",
    "\n",
    "# use mcpdt\n",
    "t_out = T_in - ((kW) / (4.2 * m3_hr))\n",
    "t_out\n",
    "\n",
    "\n",
    "# dragon_kW = 6000 / 3400\n",
    "# dragon_m2 = 17.53 * 0.0929\n",
    "# dragon_dT = 6.7 / 1.8\n",
    "# h = kW/(m2*dT)"
   ]
  },
  {
   "cell_type": "markdown",
   "metadata": {},
   "source": [
    "#### Cooler\n",
    "Solve for the 'effective R-Value' to quantify loss expected.\n",
    "\n",
    "\n",
    "- HDPE thickness: 4.5mm\n",
    "- wall thickness: 63.5mm\n",
    "- polyeurethane insulation (R value ~6) \n",
    "- [HDPE R-value: 3.5](https://www.fluther.com/12446/what-is-the-r-value-of-hdpe-high-density-polyethylene/)\n",
    "\n"
   ]
  },
  {
   "cell_type": "code",
   "execution_count": null,
   "metadata": {},
   "outputs": [],
   "source": []
  },
  {
   "cell_type": "markdown",
   "metadata": {},
   "source": [
    "#### Energy\n",
    "Solve for energy stored when full\n",
    "\n",
    "Sort out Thermal expansion"
   ]
  },
  {
   "cell_type": "code",
   "execution_count": null,
   "metadata": {},
   "outputs": [],
   "source": []
  }
 ],
 "metadata": {
  "kernelspec": {
   "display_name": "Python 3",
   "language": "python",
   "name": "python3"
  },
  "language_info": {
   "codemirror_mode": {
    "name": "ipython",
    "version": 3
   },
   "file_extension": ".py",
   "mimetype": "text/x-python",
   "name": "python",
   "nbconvert_exporter": "python",
   "pygments_lexer": "ipython3",
   "version": "3.7.6"
  }
 },
 "nbformat": 4,
 "nbformat_minor": 4
}
