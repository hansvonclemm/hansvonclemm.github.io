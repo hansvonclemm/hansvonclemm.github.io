{
 "cells": [
  {
   "cell_type": "markdown",
   "metadata": {},
   "source": [
    "## COP Arbitrage Base Model\n",
    "\n",
    "#### All that's going on here:\n",
    "1. Aggregating OpenEI energy use with TMY3 temperature data for all hours year long on selected locations\n",
    "2. Sum daily energy load for DHW and Heating\n",
    "3. Build 4 models of estimated annual thermal energy need:\n",
    "    - Heat Pump only\n",
    "    - Heat Pump with storage\n",
    "        - overly optimistic, takes best COP over 24hr period and purchases all at that moment (assumes infinite storage capacity and heat pump capacity)\n",
    "        - we get docked here in some locations because of standby losses associated with thermal storage (assuming 4%)\n",
    "    - Resistive Heating\n",
    "        - 98% efficient\n",
    "    - Natural Gas\n",
    "        - 85% efficient\n",
    "4. Heat pump performance curves are based on the curve generated below based on SANDEN reported numbers.\n",
    "    - operating on a CO2 refrigeration cycle\n",
    "    - EWT of 50F (which is not realistic for thermal storage, likely EWT around room temp)\n",
    "    - I did a lazy parabolic curve fit just as a proof of concept. Can be made less shit with ease. \n",
    "\n",
    "\n",
    "\n",
    "combine data from early Sensiblle Heat storage calcs and more recent findEnergyUse to map the benefit of thermal storage across America.\n",
    "\n"
   ]
  },
  {
   "cell_type": "code",
   "execution_count": 1,
   "metadata": {},
   "outputs": [],
   "source": [
    "import pandas as pd\n",
    "import datetime\n",
    "import os\n",
    "from glob import glob\n",
    "import plotly.graph_objects as go\n",
    "import plotly.express as px\n",
    "from scipy import optimize\n",
    "import numpy as np\n",
    "import matplotlib.pyplot as plt\n",
    "\n",
    "\n",
    "# globals\n",
    "COE = 0.2"
   ]
  },
  {
   "cell_type": "code",
   "execution_count": 7,
   "metadata": {},
   "outputs": [],
   "source": [
    "\n",
    "\n",
    "def create_df(finishString, shiftTime):\n",
    "    \n",
    "    update = []\n",
    "    ### WILL NEED TO UDPATE PATH\n",
    "    directory = os.path.join(\"c:\\\\\", \"/Users/voncronic/Desktop/GitHub/hansvonclemm.github.io/OL_data_for_watts_personal/data\")\n",
    "    for root,dirs,files in os.walk(directory):\n",
    "        for file in files:\n",
    "            if file.endswith(finishString):\n",
    "                #print (file)\n",
    "\n",
    "                li = file.split('_')\n",
    "                city = li[2].split('.')[0]\n",
    "                tmy3 = int(li[2].split('.')[-1])\n",
    "                state = li[1]\n",
    "                # print (tmy3)\n",
    "                # print(city)\n",
    "                path = \"./data/\" + file\n",
    "                current = pd.read_csv(path)\n",
    "                cleanDF = clean_datetime(current)\n",
    "                \n",
    "                tmyFileName = str(tmy3) + 'TYA.csv'\n",
    "                \n",
    "                \n",
    "                tempData = pd.read_csv('./data/' + tmyFileName, skiprows=[0])\n",
    "                tempList = tempData['Dry-bulb (C)'].tolist()\n",
    "                cleanDF['DRY BULB (C)'] = tempList\n",
    "\n",
    "                # heatNeed = get_gas_use(cleanDF, shiftTime)\n",
    "                heatNeed = 1\n",
    "                peakLoad = cleanDF['Gas:Facility [kW](Hourly)'].max() # this could be the size of HP\n",
    "                \n",
    "                # COP FUNCTION (from another slide) currently 150F SANDEN\n",
    "                params = [3.61675824e+00,  6.29945053e-02, -1.18131867e-03]\n",
    "                cleanDF['COP'] = (params[0] + params[1]*cleanDF['DRY BULB (C)'] + params[2]*cleanDF['DRY BULB (C)']**2 )\n",
    "                \n",
    "                cleanDF['HP_need'] = cleanDF['Gas:Facility [kW](Hourly)'] / cleanDF['COP']\n",
    "                dailyMax = cleanDF.resample('24H').max()\n",
    "                dailySum = cleanDF.resample('24H').sum()\n",
    "                HP_max = dailySum['Gas:Facility [kW](Hourly)'].max() / 24\n",
    "                sumAndMax = dailySum.join(dailyMax, rsuffix='_max')\n",
    "                \n",
    "                \n",
    "                \n",
    "                sumAndMax['storage_need'] = (sumAndMax['Gas:Facility [kW](Hourly)'] / sumAndMax['COP_max']) *1.04\n",
    "                \n",
    "                annualStorage = sumAndMax['storage_need'].sum()\n",
    "                annualHP = sumAndMax['HP_need'].sum()\n",
    "                annualResistive = sumAndMax['Gas:Facility [kW](Hourly)'].sum() / 0.98\n",
    "                annualNG = sumAndMax['Gas:Facility [kW](Hourly)'].sum() / 0.85\n",
    "                \n",
    "                update.append([tmy3, city, state, peakLoad,HP_max, annualStorage, annualHP, annualResistive, annualNG])\n",
    "                \n",
    "    return pd.DataFrame(update, columns=['tmy3', 'city', 'state', 'peakLoad','HP_max', 'annualStorage', 'annualHP', 'annualResistive', 'annualNG'])\n",
    "\n",
    "def to_C(F):\n",
    "    C = (F-32) * (5/9)\n",
    "    return (C)\n",
    "\n",
    "def clean_datetime(df):\n",
    "    pat = '(?P<month>\\d{2})/(?P<day>\\d{2})  (?P<hour>\\d{2}):(?P<minute>\\d{2}):(?P<second>\\d{2})'\n",
    "    exp = df['Date/Time'].str.extract(pat,expand=True)\n",
    "    exp['hour'] = exp['hour'].replace(24,0)\n",
    "    exp['year'] = 2014\n",
    "\n",
    "    df = df.set_index(pd.to_datetime(exp))\n",
    "\n",
    "    return df\n"
   ]
  },
  {
   "cell_type": "code",
   "execution_count": 8,
   "metadata": {
    "scrolled": false
   },
   "outputs": [
    {
     "data": {
      "text/html": [
       "<div>\n",
       "<style scoped>\n",
       "    .dataframe tbody tr th:only-of-type {\n",
       "        vertical-align: middle;\n",
       "    }\n",
       "\n",
       "    .dataframe tbody tr th {\n",
       "        vertical-align: top;\n",
       "    }\n",
       "\n",
       "    .dataframe thead th {\n",
       "        text-align: right;\n",
       "    }\n",
       "</style>\n",
       "<table border=\"1\" class=\"dataframe\">\n",
       "  <thead>\n",
       "    <tr style=\"text-align: right;\">\n",
       "      <th></th>\n",
       "      <th>tmy3</th>\n",
       "      <th>city</th>\n",
       "      <th>state</th>\n",
       "      <th>peakLoad</th>\n",
       "      <th>HP_max</th>\n",
       "      <th>annualStorage</th>\n",
       "      <th>annualHP</th>\n",
       "      <th>annualResistive</th>\n",
       "      <th>annualNG</th>\n",
       "      <th>percentLess</th>\n",
       "      <th>moneySaved</th>\n",
       "    </tr>\n",
       "  </thead>\n",
       "  <tbody>\n",
       "    <tr>\n",
       "      <th>0</th>\n",
       "      <td>724699</td>\n",
       "      <td>Boulder-Broomfield-Jefferson</td>\n",
       "      <td>CO</td>\n",
       "      <td>8.119554</td>\n",
       "      <td>5.806781</td>\n",
       "      <td>3408.093166</td>\n",
       "      <td>3654.404529</td>\n",
       "      <td>13235.880589</td>\n",
       "      <td>15260.191738</td>\n",
       "      <td>0.932599</td>\n",
       "      <td>49.262273</td>\n",
       "    </tr>\n",
       "    <tr>\n",
       "      <th>1</th>\n",
       "      <td>723085</td>\n",
       "      <td>Norfolk</td>\n",
       "      <td>VA</td>\n",
       "      <td>3.982023</td>\n",
       "      <td>2.699524</td>\n",
       "      <td>786.909506</td>\n",
       "      <td>794.275907</td>\n",
       "      <td>3124.941809</td>\n",
       "      <td>3602.874085</td>\n",
       "      <td>0.990726</td>\n",
       "      <td>1.473280</td>\n",
       "    </tr>\n",
       "    <tr>\n",
       "      <th>2</th>\n",
       "      <td>724463</td>\n",
       "      <td>Kansas</td>\n",
       "      <td>MO</td>\n",
       "      <td>5.509993</td>\n",
       "      <td>3.455536</td>\n",
       "      <td>1260.276325</td>\n",
       "      <td>1299.576376</td>\n",
       "      <td>4815.122744</td>\n",
       "      <td>5551.553282</td>\n",
       "      <td>0.969759</td>\n",
       "      <td>7.860010</td>\n",
       "    </tr>\n",
       "    <tr>\n",
       "      <th>3</th>\n",
       "      <td>725090</td>\n",
       "      <td>Boston-Logan</td>\n",
       "      <td>MA</td>\n",
       "      <td>9.397890</td>\n",
       "      <td>6.313666</td>\n",
       "      <td>3818.716785</td>\n",
       "      <td>3911.249460</td>\n",
       "      <td>14574.142476</td>\n",
       "      <td>16803.128972</td>\n",
       "      <td>0.976342</td>\n",
       "      <td>18.506535</td>\n",
       "    </tr>\n",
       "    <tr>\n",
       "      <th>4</th>\n",
       "      <td>722110</td>\n",
       "      <td>Tampa</td>\n",
       "      <td>FL</td>\n",
       "      <td>0.342938</td>\n",
       "      <td>0.110122</td>\n",
       "      <td>203.724420</td>\n",
       "      <td>197.907079</td>\n",
       "      <td>886.871948</td>\n",
       "      <td>1022.511187</td>\n",
       "      <td>1.029394</td>\n",
       "      <td>-1.163468</td>\n",
       "    </tr>\n",
       "    <tr>\n",
       "      <th>5</th>\n",
       "      <td>702730</td>\n",
       "      <td>Anchorage</td>\n",
       "      <td>AK</td>\n",
       "      <td>10.208369</td>\n",
       "      <td>7.825157</td>\n",
       "      <td>6850.853193</td>\n",
       "      <td>7212.559249</td>\n",
       "      <td>22748.856752</td>\n",
       "      <td>26228.093667</td>\n",
       "      <td>0.949851</td>\n",
       "      <td>72.341211</td>\n",
       "    </tr>\n",
       "    <tr>\n",
       "      <th>6</th>\n",
       "      <td>726185</td>\n",
       "      <td>Augusta</td>\n",
       "      <td>ME</td>\n",
       "      <td>11.392054</td>\n",
       "      <td>8.377955</td>\n",
       "      <td>5423.081672</td>\n",
       "      <td>5934.302805</td>\n",
       "      <td>18578.099247</td>\n",
       "      <td>21419.455603</td>\n",
       "      <td>0.913853</td>\n",
       "      <td>102.244226</td>\n",
       "    </tr>\n",
       "    <tr>\n",
       "      <th>7</th>\n",
       "      <td>726410</td>\n",
       "      <td>Madison-Dane</td>\n",
       "      <td>WI</td>\n",
       "      <td>12.243027</td>\n",
       "      <td>8.327188</td>\n",
       "      <td>5543.696086</td>\n",
       "      <td>6485.263069</td>\n",
       "      <td>18636.869266</td>\n",
       "      <td>21487.213977</td>\n",
       "      <td>0.854814</td>\n",
       "      <td>188.313397</td>\n",
       "    </tr>\n",
       "    <tr>\n",
       "      <th>8</th>\n",
       "      <td>722280</td>\n",
       "      <td>Birmingham</td>\n",
       "      <td>AL</td>\n",
       "      <td>4.286480</td>\n",
       "      <td>2.548362</td>\n",
       "      <td>646.899604</td>\n",
       "      <td>679.802868</td>\n",
       "      <td>2653.679215</td>\n",
       "      <td>3059.536036</td>\n",
       "      <td>0.951599</td>\n",
       "      <td>6.580653</td>\n",
       "    </tr>\n",
       "    <tr>\n",
       "      <th>9</th>\n",
       "      <td>726797</td>\n",
       "      <td>Bozeman-Gallatin</td>\n",
       "      <td>MT</td>\n",
       "      <td>12.359991</td>\n",
       "      <td>8.629339</td>\n",
       "      <td>4991.512594</td>\n",
       "      <td>5944.855368</td>\n",
       "      <td>17674.194533</td>\n",
       "      <td>20377.306639</td>\n",
       "      <td>0.839636</td>\n",
       "      <td>190.668555</td>\n",
       "    </tr>\n",
       "    <tr>\n",
       "      <th>10</th>\n",
       "      <td>726620</td>\n",
       "      <td>Rapid</td>\n",
       "      <td>SD</td>\n",
       "      <td>10.556124</td>\n",
       "      <td>7.444299</td>\n",
       "      <td>4695.899119</td>\n",
       "      <td>5256.517930</td>\n",
       "      <td>17004.359791</td>\n",
       "      <td>19605.026583</td>\n",
       "      <td>0.893348</td>\n",
       "      <td>112.123762</td>\n",
       "    </tr>\n",
       "    <tr>\n",
       "      <th>11</th>\n",
       "      <td>727935</td>\n",
       "      <td>Seattle-Boeing</td>\n",
       "      <td>WA</td>\n",
       "      <td>4.452577</td>\n",
       "      <td>3.258255</td>\n",
       "      <td>2120.954571</td>\n",
       "      <td>2105.977138</td>\n",
       "      <td>8699.016832</td>\n",
       "      <td>10029.454701</td>\n",
       "      <td>1.007112</td>\n",
       "      <td>-2.995487</td>\n",
       "    </tr>\n",
       "    <tr>\n",
       "      <th>12</th>\n",
       "      <td>722784</td>\n",
       "      <td>Phoenix-Deer</td>\n",
       "      <td>AZ</td>\n",
       "      <td>1.965678</td>\n",
       "      <td>0.884682</td>\n",
       "      <td>994.720784</td>\n",
       "      <td>979.920841</td>\n",
       "      <td>4308.585620</td>\n",
       "      <td>4967.545774</td>\n",
       "      <td>1.015103</td>\n",
       "      <td>-2.959988</td>\n",
       "    </tr>\n",
       "    <tr>\n",
       "      <th>13</th>\n",
       "      <td>724930</td>\n",
       "      <td>Oakland</td>\n",
       "      <td>CA</td>\n",
       "      <td>2.807151</td>\n",
       "      <td>1.662604</td>\n",
       "      <td>1433.183997</td>\n",
       "      <td>1416.675022</td>\n",
       "      <td>6094.684521</td>\n",
       "      <td>7026.812742</td>\n",
       "      <td>1.011653</td>\n",
       "      <td>-3.301795</td>\n",
       "    </tr>\n",
       "    <tr>\n",
       "      <th>14</th>\n",
       "      <td>726185</td>\n",
       "      <td>Augusta</td>\n",
       "      <td>ME</td>\n",
       "      <td>11.392054</td>\n",
       "      <td>8.377955</td>\n",
       "      <td>5423.081672</td>\n",
       "      <td>5934.302805</td>\n",
       "      <td>18578.099247</td>\n",
       "      <td>21419.455603</td>\n",
       "      <td>0.913853</td>\n",
       "      <td>102.244226</td>\n",
       "    </tr>\n",
       "  </tbody>\n",
       "</table>\n",
       "</div>"
      ],
      "text/plain": [
       "      tmy3                          city state   peakLoad    HP_max  \\\n",
       "0   724699  Boulder-Broomfield-Jefferson    CO   8.119554  5.806781   \n",
       "1   723085                       Norfolk    VA   3.982023  2.699524   \n",
       "2   724463                        Kansas    MO   5.509993  3.455536   \n",
       "3   725090                  Boston-Logan    MA   9.397890  6.313666   \n",
       "4   722110                         Tampa    FL   0.342938  0.110122   \n",
       "5   702730                     Anchorage    AK  10.208369  7.825157   \n",
       "6   726185                       Augusta    ME  11.392054  8.377955   \n",
       "7   726410                  Madison-Dane    WI  12.243027  8.327188   \n",
       "8   722280                    Birmingham    AL   4.286480  2.548362   \n",
       "9   726797              Bozeman-Gallatin    MT  12.359991  8.629339   \n",
       "10  726620                         Rapid    SD  10.556124  7.444299   \n",
       "11  727935                Seattle-Boeing    WA   4.452577  3.258255   \n",
       "12  722784                  Phoenix-Deer    AZ   1.965678  0.884682   \n",
       "13  724930                       Oakland    CA   2.807151  1.662604   \n",
       "14  726185                       Augusta    ME  11.392054  8.377955   \n",
       "\n",
       "    annualStorage     annualHP  annualResistive      annualNG  percentLess  \\\n",
       "0     3408.093166  3654.404529     13235.880589  15260.191738     0.932599   \n",
       "1      786.909506   794.275907      3124.941809   3602.874085     0.990726   \n",
       "2     1260.276325  1299.576376      4815.122744   5551.553282     0.969759   \n",
       "3     3818.716785  3911.249460     14574.142476  16803.128972     0.976342   \n",
       "4      203.724420   197.907079       886.871948   1022.511187     1.029394   \n",
       "5     6850.853193  7212.559249     22748.856752  26228.093667     0.949851   \n",
       "6     5423.081672  5934.302805     18578.099247  21419.455603     0.913853   \n",
       "7     5543.696086  6485.263069     18636.869266  21487.213977     0.854814   \n",
       "8      646.899604   679.802868      2653.679215   3059.536036     0.951599   \n",
       "9     4991.512594  5944.855368     17674.194533  20377.306639     0.839636   \n",
       "10    4695.899119  5256.517930     17004.359791  19605.026583     0.893348   \n",
       "11    2120.954571  2105.977138      8699.016832  10029.454701     1.007112   \n",
       "12     994.720784   979.920841      4308.585620   4967.545774     1.015103   \n",
       "13    1433.183997  1416.675022      6094.684521   7026.812742     1.011653   \n",
       "14    5423.081672  5934.302805     18578.099247  21419.455603     0.913853   \n",
       "\n",
       "    moneySaved  \n",
       "0    49.262273  \n",
       "1     1.473280  \n",
       "2     7.860010  \n",
       "3    18.506535  \n",
       "4    -1.163468  \n",
       "5    72.341211  \n",
       "6   102.244226  \n",
       "7   188.313397  \n",
       "8     6.580653  \n",
       "9   190.668555  \n",
       "10  112.123762  \n",
       "11   -2.995487  \n",
       "12   -2.959988  \n",
       "13   -3.301795  \n",
       "14  102.244226  "
      ]
     },
     "execution_count": 8,
     "metadata": {},
     "output_type": "execute_result"
    }
   ],
   "source": [
    "new = create_df('LOW.csv', 12)\n",
    "new['percentLess'] = new['annualStorage'] / new['annualHP']\n",
    "new['moneySaved'] = (new['annualHP'] - new['annualStorage']) * COE\n",
    "new"
   ]
  },
  {
   "cell_type": "code",
   "execution_count": 9,
   "metadata": {
    "scrolled": false
   },
   "outputs": [
    {
     "data": {
      "text/html": [
       "<div>\n",
       "<style scoped>\n",
       "    .dataframe tbody tr th:only-of-type {\n",
       "        vertical-align: middle;\n",
       "    }\n",
       "\n",
       "    .dataframe tbody tr th {\n",
       "        vertical-align: top;\n",
       "    }\n",
       "\n",
       "    .dataframe thead th {\n",
       "        text-align: right;\n",
       "    }\n",
       "</style>\n",
       "<table border=\"1\" class=\"dataframe\">\n",
       "  <thead>\n",
       "    <tr style=\"text-align: right;\">\n",
       "      <th></th>\n",
       "      <th>tmy3</th>\n",
       "      <th>city</th>\n",
       "      <th>state</th>\n",
       "      <th>peakLoad</th>\n",
       "      <th>HP_max</th>\n",
       "      <th>annualStorage</th>\n",
       "      <th>annualHP</th>\n",
       "      <th>annualResistive</th>\n",
       "      <th>annualNG</th>\n",
       "      <th>percentLess</th>\n",
       "      <th>moneySaved</th>\n",
       "    </tr>\n",
       "  </thead>\n",
       "  <tbody>\n",
       "    <tr>\n",
       "      <th>0</th>\n",
       "      <td>724930</td>\n",
       "      <td>Oakland</td>\n",
       "      <td>CA</td>\n",
       "      <td>13.155729</td>\n",
       "      <td>8.689445</td>\n",
       "      <td>6360.854248</td>\n",
       "      <td>6339.661386</td>\n",
       "      <td>26942.694501</td>\n",
       "      <td>31063.341895</td>\n",
       "      <td>1.003343</td>\n",
       "      <td>-4.238572</td>\n",
       "    </tr>\n",
       "    <tr>\n",
       "      <th>1</th>\n",
       "      <td>724463</td>\n",
       "      <td>Kansas</td>\n",
       "      <td>MO</td>\n",
       "      <td>20.348885</td>\n",
       "      <td>16.839887</td>\n",
       "      <td>7549.785022</td>\n",
       "      <td>7799.909995</td>\n",
       "      <td>29056.035698</td>\n",
       "      <td>33499.899981</td>\n",
       "      <td>0.967932</td>\n",
       "      <td>50.024995</td>\n",
       "    </tr>\n",
       "    <tr>\n",
       "      <th>2</th>\n",
       "      <td>724957</td>\n",
       "      <td>Santa</td>\n",
       "      <td>CA</td>\n",
       "      <td>16.109078</td>\n",
       "      <td>9.371394</td>\n",
       "      <td>6838.472529</td>\n",
       "      <td>6979.584608</td>\n",
       "      <td>28989.250818</td>\n",
       "      <td>33422.900943</td>\n",
       "      <td>0.979782</td>\n",
       "      <td>28.222416</td>\n",
       "    </tr>\n",
       "    <tr>\n",
       "      <th>3</th>\n",
       "      <td>724699</td>\n",
       "      <td>Boulder-Broomfield-Jefferson</td>\n",
       "      <td>CO</td>\n",
       "      <td>25.898259</td>\n",
       "      <td>19.757166</td>\n",
       "      <td>11826.937291</td>\n",
       "      <td>12817.369876</td>\n",
       "      <td>45608.833911</td>\n",
       "      <td>52584.302627</td>\n",
       "      <td>0.922727</td>\n",
       "      <td>198.086517</td>\n",
       "    </tr>\n",
       "    <tr>\n",
       "      <th>4</th>\n",
       "      <td>726410</td>\n",
       "      <td>Madison-Dane</td>\n",
       "      <td>WI</td>\n",
       "      <td>33.198401</td>\n",
       "      <td>29.242319</td>\n",
       "      <td>20017.581473</td>\n",
       "      <td>23425.582364</td>\n",
       "      <td>67085.048041</td>\n",
       "      <td>77345.114212</td>\n",
       "      <td>0.854518</td>\n",
       "      <td>681.600178</td>\n",
       "    </tr>\n",
       "    <tr>\n",
       "      <th>5</th>\n",
       "      <td>702730</td>\n",
       "      <td>Anchorage</td>\n",
       "      <td>AK</td>\n",
       "      <td>32.862769</td>\n",
       "      <td>26.870739</td>\n",
       "      <td>25326.366344</td>\n",
       "      <td>26677.184430</td>\n",
       "      <td>84444.050248</td>\n",
       "      <td>97359.022639</td>\n",
       "      <td>0.949364</td>\n",
       "      <td>270.163617</td>\n",
       "    </tr>\n",
       "    <tr>\n",
       "      <th>6</th>\n",
       "      <td>722784</td>\n",
       "      <td>Phoenix-Deer</td>\n",
       "      <td>AZ</td>\n",
       "      <td>10.435660</td>\n",
       "      <td>5.781586</td>\n",
       "      <td>2830.421690</td>\n",
       "      <td>2850.828822</td>\n",
       "      <td>12153.327685</td>\n",
       "      <td>14012.071919</td>\n",
       "      <td>0.992842</td>\n",
       "      <td>4.081426</td>\n",
       "    </tr>\n",
       "    <tr>\n",
       "      <th>7</th>\n",
       "      <td>726797</td>\n",
       "      <td>Bozeman-Gallatin</td>\n",
       "      <td>MT</td>\n",
       "      <td>31.898642</td>\n",
       "      <td>28.313989</td>\n",
       "      <td>17854.493041</td>\n",
       "      <td>21142.666928</td>\n",
       "      <td>63313.872916</td>\n",
       "      <td>72997.171126</td>\n",
       "      <td>0.844477</td>\n",
       "      <td>657.634777</td>\n",
       "    </tr>\n",
       "    <tr>\n",
       "      <th>8</th>\n",
       "      <td>722110</td>\n",
       "      <td>Tampa</td>\n",
       "      <td>FL</td>\n",
       "      <td>0.000000</td>\n",
       "      <td>0.000000</td>\n",
       "      <td>0.000000</td>\n",
       "      <td>0.000000</td>\n",
       "      <td>0.000000</td>\n",
       "      <td>0.000000</td>\n",
       "      <td>NaN</td>\n",
       "      <td>0.000000</td>\n",
       "    </tr>\n",
       "    <tr>\n",
       "      <th>9</th>\n",
       "      <td>722280</td>\n",
       "      <td>Birmingham</td>\n",
       "      <td>AL</td>\n",
       "      <td>19.660152</td>\n",
       "      <td>12.248637</td>\n",
       "      <td>4290.720382</td>\n",
       "      <td>4540.626568</td>\n",
       "      <td>17617.829800</td>\n",
       "      <td>20312.321417</td>\n",
       "      <td>0.944962</td>\n",
       "      <td>49.981237</td>\n",
       "    </tr>\n",
       "    <tr>\n",
       "      <th>10</th>\n",
       "      <td>723085</td>\n",
       "      <td>Norfolk</td>\n",
       "      <td>VA</td>\n",
       "      <td>18.543552</td>\n",
       "      <td>13.947359</td>\n",
       "      <td>5188.013557</td>\n",
       "      <td>5250.622478</td>\n",
       "      <td>20675.145065</td>\n",
       "      <td>23837.226075</td>\n",
       "      <td>0.988076</td>\n",
       "      <td>12.521784</td>\n",
       "    </tr>\n",
       "    <tr>\n",
       "      <th>11</th>\n",
       "      <td>726185</td>\n",
       "      <td>Augusta</td>\n",
       "      <td>ME</td>\n",
       "      <td>33.103541</td>\n",
       "      <td>29.863276</td>\n",
       "      <td>19559.490883</td>\n",
       "      <td>21456.851510</td>\n",
       "      <td>66858.159241</td>\n",
       "      <td>77083.524772</td>\n",
       "      <td>0.911573</td>\n",
       "      <td>379.472125</td>\n",
       "    </tr>\n",
       "    <tr>\n",
       "      <th>12</th>\n",
       "      <td>725090</td>\n",
       "      <td>Boston-Logan</td>\n",
       "      <td>MA</td>\n",
       "      <td>32.424271</td>\n",
       "      <td>23.313994</td>\n",
       "      <td>13780.450109</td>\n",
       "      <td>14176.798891</td>\n",
       "      <td>52302.308500</td>\n",
       "      <td>60301.485094</td>\n",
       "      <td>0.972042</td>\n",
       "      <td>79.269756</td>\n",
       "    </tr>\n",
       "    <tr>\n",
       "      <th>13</th>\n",
       "      <td>727935</td>\n",
       "      <td>Seattle-Boeing</td>\n",
       "      <td>WA</td>\n",
       "      <td>16.173102</td>\n",
       "      <td>14.624786</td>\n",
       "      <td>9595.816136</td>\n",
       "      <td>9572.403054</td>\n",
       "      <td>39157.082248</td>\n",
       "      <td>45145.812475</td>\n",
       "      <td>1.002446</td>\n",
       "      <td>-4.682616</td>\n",
       "    </tr>\n",
       "    <tr>\n",
       "      <th>14</th>\n",
       "      <td>726620</td>\n",
       "      <td>Rapid</td>\n",
       "      <td>SD</td>\n",
       "      <td>30.616475</td>\n",
       "      <td>25.880727</td>\n",
       "      <td>17159.940775</td>\n",
       "      <td>19264.453907</td>\n",
       "      <td>61901.346154</td>\n",
       "      <td>71368.610860</td>\n",
       "      <td>0.890757</td>\n",
       "      <td>420.902626</td>\n",
       "    </tr>\n",
       "    <tr>\n",
       "      <th>15</th>\n",
       "      <td>726185</td>\n",
       "      <td>Augusta</td>\n",
       "      <td>ME</td>\n",
       "      <td>33.103541</td>\n",
       "      <td>29.863276</td>\n",
       "      <td>19559.490883</td>\n",
       "      <td>21456.851510</td>\n",
       "      <td>66858.159241</td>\n",
       "      <td>77083.524772</td>\n",
       "      <td>0.911573</td>\n",
       "      <td>379.472125</td>\n",
       "    </tr>\n",
       "  </tbody>\n",
       "</table>\n",
       "</div>"
      ],
      "text/plain": [
       "      tmy3                          city state   peakLoad     HP_max  \\\n",
       "0   724930                       Oakland    CA  13.155729   8.689445   \n",
       "1   724463                        Kansas    MO  20.348885  16.839887   \n",
       "2   724957                         Santa    CA  16.109078   9.371394   \n",
       "3   724699  Boulder-Broomfield-Jefferson    CO  25.898259  19.757166   \n",
       "4   726410                  Madison-Dane    WI  33.198401  29.242319   \n",
       "5   702730                     Anchorage    AK  32.862769  26.870739   \n",
       "6   722784                  Phoenix-Deer    AZ  10.435660   5.781586   \n",
       "7   726797              Bozeman-Gallatin    MT  31.898642  28.313989   \n",
       "8   722110                         Tampa    FL   0.000000   0.000000   \n",
       "9   722280                    Birmingham    AL  19.660152  12.248637   \n",
       "10  723085                       Norfolk    VA  18.543552  13.947359   \n",
       "11  726185                       Augusta    ME  33.103541  29.863276   \n",
       "12  725090                  Boston-Logan    MA  32.424271  23.313994   \n",
       "13  727935                Seattle-Boeing    WA  16.173102  14.624786   \n",
       "14  726620                         Rapid    SD  30.616475  25.880727   \n",
       "15  726185                       Augusta    ME  33.103541  29.863276   \n",
       "\n",
       "    annualStorage      annualHP  annualResistive      annualNG  percentLess  \\\n",
       "0     6360.854248   6339.661386     26942.694501  31063.341895     1.003343   \n",
       "1     7549.785022   7799.909995     29056.035698  33499.899981     0.967932   \n",
       "2     6838.472529   6979.584608     28989.250818  33422.900943     0.979782   \n",
       "3    11826.937291  12817.369876     45608.833911  52584.302627     0.922727   \n",
       "4    20017.581473  23425.582364     67085.048041  77345.114212     0.854518   \n",
       "5    25326.366344  26677.184430     84444.050248  97359.022639     0.949364   \n",
       "6     2830.421690   2850.828822     12153.327685  14012.071919     0.992842   \n",
       "7    17854.493041  21142.666928     63313.872916  72997.171126     0.844477   \n",
       "8        0.000000      0.000000         0.000000      0.000000          NaN   \n",
       "9     4290.720382   4540.626568     17617.829800  20312.321417     0.944962   \n",
       "10    5188.013557   5250.622478     20675.145065  23837.226075     0.988076   \n",
       "11   19559.490883  21456.851510     66858.159241  77083.524772     0.911573   \n",
       "12   13780.450109  14176.798891     52302.308500  60301.485094     0.972042   \n",
       "13    9595.816136   9572.403054     39157.082248  45145.812475     1.002446   \n",
       "14   17159.940775  19264.453907     61901.346154  71368.610860     0.890757   \n",
       "15   19559.490883  21456.851510     66858.159241  77083.524772     0.911573   \n",
       "\n",
       "    moneySaved  \n",
       "0    -4.238572  \n",
       "1    50.024995  \n",
       "2    28.222416  \n",
       "3   198.086517  \n",
       "4   681.600178  \n",
       "5   270.163617  \n",
       "6     4.081426  \n",
       "7   657.634777  \n",
       "8     0.000000  \n",
       "9    49.981237  \n",
       "10   12.521784  \n",
       "11  379.472125  \n",
       "12   79.269756  \n",
       "13   -4.682616  \n",
       "14  420.902626  \n",
       "15  379.472125  "
      ]
     },
     "execution_count": 9,
     "metadata": {},
     "output_type": "execute_result"
    }
   ],
   "source": [
    "\n",
    "newHigh = create_df('HIGH.csv', 12)\n",
    "newHigh['percentLess'] = newHigh['annualStorage'] / newHigh['annualHP']\n",
    "newHigh['moneySaved'] = (newHigh['annualHP'] - newHigh['annualStorage']) * COE\n",
    "newHigh"
   ]
  },
  {
   "cell_type": "code",
   "execution_count": 10,
   "metadata": {},
   "outputs": [
    {
     "data": {
      "application/vnd.plotly.v1+json": {
       "config": {
        "plotlyServerURL": "https://plot.ly"
       },
       "data": [
        {
         "name": "140F SET TEMP",
         "type": "scatter",
         "x": [
          -25,
          -20,
          -15,
          -10,
          -5,
          0,
          5,
          10,
          15,
          20,
          25,
          30,
          35,
          40
         ],
         "y": [
          1.7,
          2,
          2.2,
          2.5,
          2.9,
          3.2,
          3.9,
          4.7,
          4.8,
          5.2,
          5,
          4.6,
          4.3,
          4
         ]
        },
        {
         "name": "150F SET TEMP",
         "type": "scatter",
         "x": [
          -25,
          -20,
          -15,
          -10,
          -5,
          0,
          5,
          10,
          15,
          20,
          25,
          30,
          35,
          40
         ],
         "y": [
          1.7,
          1.9,
          2.2,
          2.6,
          3,
          3.4,
          3.9,
          4.3,
          4.5,
          4.8,
          4.6,
          4.4,
          4.2,
          4.1
         ]
        },
        {
         "name": "160F SET TEMP",
         "type": "scatter",
         "x": [
          -25,
          -20,
          -15,
          -10,
          -5,
          0,
          5,
          10,
          15,
          20,
          25,
          30,
          35,
          40
         ],
         "y": [
          1.5,
          1.9,
          2.1,
          2.5,
          2.9,
          3.3,
          3.7,
          4,
          4.2,
          4.3,
          4.3,
          4.2,
          4.1,
          4
         ]
        }
       ],
       "layout": {
        "annotations": [
         {
          "text": "COP 5.2",
          "x": 20,
          "y": 5.2
         }
        ],
        "template": {
         "data": {
          "bar": [
           {
            "error_x": {
             "color": "#2a3f5f"
            },
            "error_y": {
             "color": "#2a3f5f"
            },
            "marker": {
             "line": {
              "color": "#E5ECF6",
              "width": 0.5
             }
            },
            "type": "bar"
           }
          ],
          "barpolar": [
           {
            "marker": {
             "line": {
              "color": "#E5ECF6",
              "width": 0.5
             }
            },
            "type": "barpolar"
           }
          ],
          "carpet": [
           {
            "aaxis": {
             "endlinecolor": "#2a3f5f",
             "gridcolor": "white",
             "linecolor": "white",
             "minorgridcolor": "white",
             "startlinecolor": "#2a3f5f"
            },
            "baxis": {
             "endlinecolor": "#2a3f5f",
             "gridcolor": "white",
             "linecolor": "white",
             "minorgridcolor": "white",
             "startlinecolor": "#2a3f5f"
            },
            "type": "carpet"
           }
          ],
          "choropleth": [
           {
            "colorbar": {
             "outlinewidth": 0,
             "ticks": ""
            },
            "type": "choropleth"
           }
          ],
          "contour": [
           {
            "colorbar": {
             "outlinewidth": 0,
             "ticks": ""
            },
            "colorscale": [
             [
              0,
              "#0d0887"
             ],
             [
              0.1111111111111111,
              "#46039f"
             ],
             [
              0.2222222222222222,
              "#7201a8"
             ],
             [
              0.3333333333333333,
              "#9c179e"
             ],
             [
              0.4444444444444444,
              "#bd3786"
             ],
             [
              0.5555555555555556,
              "#d8576b"
             ],
             [
              0.6666666666666666,
              "#ed7953"
             ],
             [
              0.7777777777777778,
              "#fb9f3a"
             ],
             [
              0.8888888888888888,
              "#fdca26"
             ],
             [
              1,
              "#f0f921"
             ]
            ],
            "type": "contour"
           }
          ],
          "contourcarpet": [
           {
            "colorbar": {
             "outlinewidth": 0,
             "ticks": ""
            },
            "type": "contourcarpet"
           }
          ],
          "heatmap": [
           {
            "colorbar": {
             "outlinewidth": 0,
             "ticks": ""
            },
            "colorscale": [
             [
              0,
              "#0d0887"
             ],
             [
              0.1111111111111111,
              "#46039f"
             ],
             [
              0.2222222222222222,
              "#7201a8"
             ],
             [
              0.3333333333333333,
              "#9c179e"
             ],
             [
              0.4444444444444444,
              "#bd3786"
             ],
             [
              0.5555555555555556,
              "#d8576b"
             ],
             [
              0.6666666666666666,
              "#ed7953"
             ],
             [
              0.7777777777777778,
              "#fb9f3a"
             ],
             [
              0.8888888888888888,
              "#fdca26"
             ],
             [
              1,
              "#f0f921"
             ]
            ],
            "type": "heatmap"
           }
          ],
          "heatmapgl": [
           {
            "colorbar": {
             "outlinewidth": 0,
             "ticks": ""
            },
            "colorscale": [
             [
              0,
              "#0d0887"
             ],
             [
              0.1111111111111111,
              "#46039f"
             ],
             [
              0.2222222222222222,
              "#7201a8"
             ],
             [
              0.3333333333333333,
              "#9c179e"
             ],
             [
              0.4444444444444444,
              "#bd3786"
             ],
             [
              0.5555555555555556,
              "#d8576b"
             ],
             [
              0.6666666666666666,
              "#ed7953"
             ],
             [
              0.7777777777777778,
              "#fb9f3a"
             ],
             [
              0.8888888888888888,
              "#fdca26"
             ],
             [
              1,
              "#f0f921"
             ]
            ],
            "type": "heatmapgl"
           }
          ],
          "histogram": [
           {
            "marker": {
             "colorbar": {
              "outlinewidth": 0,
              "ticks": ""
             }
            },
            "type": "histogram"
           }
          ],
          "histogram2d": [
           {
            "colorbar": {
             "outlinewidth": 0,
             "ticks": ""
            },
            "colorscale": [
             [
              0,
              "#0d0887"
             ],
             [
              0.1111111111111111,
              "#46039f"
             ],
             [
              0.2222222222222222,
              "#7201a8"
             ],
             [
              0.3333333333333333,
              "#9c179e"
             ],
             [
              0.4444444444444444,
              "#bd3786"
             ],
             [
              0.5555555555555556,
              "#d8576b"
             ],
             [
              0.6666666666666666,
              "#ed7953"
             ],
             [
              0.7777777777777778,
              "#fb9f3a"
             ],
             [
              0.8888888888888888,
              "#fdca26"
             ],
             [
              1,
              "#f0f921"
             ]
            ],
            "type": "histogram2d"
           }
          ],
          "histogram2dcontour": [
           {
            "colorbar": {
             "outlinewidth": 0,
             "ticks": ""
            },
            "colorscale": [
             [
              0,
              "#0d0887"
             ],
             [
              0.1111111111111111,
              "#46039f"
             ],
             [
              0.2222222222222222,
              "#7201a8"
             ],
             [
              0.3333333333333333,
              "#9c179e"
             ],
             [
              0.4444444444444444,
              "#bd3786"
             ],
             [
              0.5555555555555556,
              "#d8576b"
             ],
             [
              0.6666666666666666,
              "#ed7953"
             ],
             [
              0.7777777777777778,
              "#fb9f3a"
             ],
             [
              0.8888888888888888,
              "#fdca26"
             ],
             [
              1,
              "#f0f921"
             ]
            ],
            "type": "histogram2dcontour"
           }
          ],
          "mesh3d": [
           {
            "colorbar": {
             "outlinewidth": 0,
             "ticks": ""
            },
            "type": "mesh3d"
           }
          ],
          "parcoords": [
           {
            "line": {
             "colorbar": {
              "outlinewidth": 0,
              "ticks": ""
             }
            },
            "type": "parcoords"
           }
          ],
          "pie": [
           {
            "automargin": true,
            "type": "pie"
           }
          ],
          "scatter": [
           {
            "marker": {
             "colorbar": {
              "outlinewidth": 0,
              "ticks": ""
             }
            },
            "type": "scatter"
           }
          ],
          "scatter3d": [
           {
            "line": {
             "colorbar": {
              "outlinewidth": 0,
              "ticks": ""
             }
            },
            "marker": {
             "colorbar": {
              "outlinewidth": 0,
              "ticks": ""
             }
            },
            "type": "scatter3d"
           }
          ],
          "scattercarpet": [
           {
            "marker": {
             "colorbar": {
              "outlinewidth": 0,
              "ticks": ""
             }
            },
            "type": "scattercarpet"
           }
          ],
          "scattergeo": [
           {
            "marker": {
             "colorbar": {
              "outlinewidth": 0,
              "ticks": ""
             }
            },
            "type": "scattergeo"
           }
          ],
          "scattergl": [
           {
            "marker": {
             "colorbar": {
              "outlinewidth": 0,
              "ticks": ""
             }
            },
            "type": "scattergl"
           }
          ],
          "scattermapbox": [
           {
            "marker": {
             "colorbar": {
              "outlinewidth": 0,
              "ticks": ""
             }
            },
            "type": "scattermapbox"
           }
          ],
          "scatterpolar": [
           {
            "marker": {
             "colorbar": {
              "outlinewidth": 0,
              "ticks": ""
             }
            },
            "type": "scatterpolar"
           }
          ],
          "scatterpolargl": [
           {
            "marker": {
             "colorbar": {
              "outlinewidth": 0,
              "ticks": ""
             }
            },
            "type": "scatterpolargl"
           }
          ],
          "scatterternary": [
           {
            "marker": {
             "colorbar": {
              "outlinewidth": 0,
              "ticks": ""
             }
            },
            "type": "scatterternary"
           }
          ],
          "surface": [
           {
            "colorbar": {
             "outlinewidth": 0,
             "ticks": ""
            },
            "colorscale": [
             [
              0,
              "#0d0887"
             ],
             [
              0.1111111111111111,
              "#46039f"
             ],
             [
              0.2222222222222222,
              "#7201a8"
             ],
             [
              0.3333333333333333,
              "#9c179e"
             ],
             [
              0.4444444444444444,
              "#bd3786"
             ],
             [
              0.5555555555555556,
              "#d8576b"
             ],
             [
              0.6666666666666666,
              "#ed7953"
             ],
             [
              0.7777777777777778,
              "#fb9f3a"
             ],
             [
              0.8888888888888888,
              "#fdca26"
             ],
             [
              1,
              "#f0f921"
             ]
            ],
            "type": "surface"
           }
          ],
          "table": [
           {
            "cells": {
             "fill": {
              "color": "#EBF0F8"
             },
             "line": {
              "color": "white"
             }
            },
            "header": {
             "fill": {
              "color": "#C8D4E3"
             },
             "line": {
              "color": "white"
             }
            },
            "type": "table"
           }
          ]
         },
         "layout": {
          "annotationdefaults": {
           "arrowcolor": "#2a3f5f",
           "arrowhead": 0,
           "arrowwidth": 1
          },
          "coloraxis": {
           "colorbar": {
            "outlinewidth": 0,
            "ticks": ""
           }
          },
          "colorscale": {
           "diverging": [
            [
             0,
             "#8e0152"
            ],
            [
             0.1,
             "#c51b7d"
            ],
            [
             0.2,
             "#de77ae"
            ],
            [
             0.3,
             "#f1b6da"
            ],
            [
             0.4,
             "#fde0ef"
            ],
            [
             0.5,
             "#f7f7f7"
            ],
            [
             0.6,
             "#e6f5d0"
            ],
            [
             0.7,
             "#b8e186"
            ],
            [
             0.8,
             "#7fbc41"
            ],
            [
             0.9,
             "#4d9221"
            ],
            [
             1,
             "#276419"
            ]
           ],
           "sequential": [
            [
             0,
             "#0d0887"
            ],
            [
             0.1111111111111111,
             "#46039f"
            ],
            [
             0.2222222222222222,
             "#7201a8"
            ],
            [
             0.3333333333333333,
             "#9c179e"
            ],
            [
             0.4444444444444444,
             "#bd3786"
            ],
            [
             0.5555555555555556,
             "#d8576b"
            ],
            [
             0.6666666666666666,
             "#ed7953"
            ],
            [
             0.7777777777777778,
             "#fb9f3a"
            ],
            [
             0.8888888888888888,
             "#fdca26"
            ],
            [
             1,
             "#f0f921"
            ]
           ],
           "sequentialminus": [
            [
             0,
             "#0d0887"
            ],
            [
             0.1111111111111111,
             "#46039f"
            ],
            [
             0.2222222222222222,
             "#7201a8"
            ],
            [
             0.3333333333333333,
             "#9c179e"
            ],
            [
             0.4444444444444444,
             "#bd3786"
            ],
            [
             0.5555555555555556,
             "#d8576b"
            ],
            [
             0.6666666666666666,
             "#ed7953"
            ],
            [
             0.7777777777777778,
             "#fb9f3a"
            ],
            [
             0.8888888888888888,
             "#fdca26"
            ],
            [
             1,
             "#f0f921"
            ]
           ]
          },
          "colorway": [
           "#636efa",
           "#EF553B",
           "#00cc96",
           "#ab63fa",
           "#FFA15A",
           "#19d3f3",
           "#FF6692",
           "#B6E880",
           "#FF97FF",
           "#FECB52"
          ],
          "font": {
           "color": "#2a3f5f"
          },
          "geo": {
           "bgcolor": "white",
           "lakecolor": "white",
           "landcolor": "#E5ECF6",
           "showlakes": true,
           "showland": true,
           "subunitcolor": "white"
          },
          "hoverlabel": {
           "align": "left"
          },
          "hovermode": "closest",
          "mapbox": {
           "style": "light"
          },
          "paper_bgcolor": "white",
          "plot_bgcolor": "#E5ECF6",
          "polar": {
           "angularaxis": {
            "gridcolor": "white",
            "linecolor": "white",
            "ticks": ""
           },
           "bgcolor": "#E5ECF6",
           "radialaxis": {
            "gridcolor": "white",
            "linecolor": "white",
            "ticks": ""
           }
          },
          "scene": {
           "xaxis": {
            "backgroundcolor": "#E5ECF6",
            "gridcolor": "white",
            "gridwidth": 2,
            "linecolor": "white",
            "showbackground": true,
            "ticks": "",
            "zerolinecolor": "white"
           },
           "yaxis": {
            "backgroundcolor": "#E5ECF6",
            "gridcolor": "white",
            "gridwidth": 2,
            "linecolor": "white",
            "showbackground": true,
            "ticks": "",
            "zerolinecolor": "white"
           },
           "zaxis": {
            "backgroundcolor": "#E5ECF6",
            "gridcolor": "white",
            "gridwidth": 2,
            "linecolor": "white",
            "showbackground": true,
            "ticks": "",
            "zerolinecolor": "white"
           }
          },
          "shapedefaults": {
           "line": {
            "color": "#2a3f5f"
           }
          },
          "ternary": {
           "aaxis": {
            "gridcolor": "white",
            "linecolor": "white",
            "ticks": ""
           },
           "baxis": {
            "gridcolor": "white",
            "linecolor": "white",
            "ticks": ""
           },
           "bgcolor": "#E5ECF6",
           "caxis": {
            "gridcolor": "white",
            "linecolor": "white",
            "ticks": ""
           }
          },
          "title": {
           "x": 0.05
          },
          "xaxis": {
           "automargin": true,
           "gridcolor": "white",
           "linecolor": "white",
           "ticks": "",
           "title": {
            "standoff": 15
           },
           "zerolinecolor": "white",
           "zerolinewidth": 2
          },
          "yaxis": {
           "automargin": true,
           "gridcolor": "white",
           "linecolor": "white",
           "ticks": "",
           "title": {
            "standoff": 15
           },
           "zerolinecolor": "white",
           "zerolinewidth": 2
          }
         }
        },
        "title": {
         "text": "HEAT PUMP COP w.r.t AMBIENT TEMPERATURE"
        },
        "xaxis": {
         "title": {
          "text": "Outside Temperature [F]"
         }
        },
        "yaxis": {
         "title": {
          "text": "COP"
         }
        }
       }
      },
      "text/html": [
       "<div>\n",
       "        \n",
       "        \n",
       "            <div id=\"45e53bd9-96c8-4c2e-a240-d5667cab0535\" class=\"plotly-graph-div\" style=\"height:525px; width:100%;\"></div>\n",
       "            <script type=\"text/javascript\">\n",
       "                require([\"plotly\"], function(Plotly) {\n",
       "                    window.PLOTLYENV=window.PLOTLYENV || {};\n",
       "                    \n",
       "                if (document.getElementById(\"45e53bd9-96c8-4c2e-a240-d5667cab0535\")) {\n",
       "                    Plotly.newPlot(\n",
       "                        '45e53bd9-96c8-4c2e-a240-d5667cab0535',\n",
       "                        [{\"name\": \"140F SET TEMP\", \"type\": \"scatter\", \"x\": [-25.0, -20.0, -15.0, -10.0, -5.0, 0.0, 5.0, 10.0, 15.0, 20.0, 25.0, 30.0, 35.0, 40.0], \"y\": [1.7, 2.0, 2.2, 2.5, 2.9, 3.2, 3.9, 4.7, 4.8, 5.2, 5.0, 4.6, 4.3, 4.0]}, {\"name\": \"150F SET TEMP\", \"type\": \"scatter\", \"x\": [-25.0, -20.0, -15.0, -10.0, -5.0, 0.0, 5.0, 10.0, 15.0, 20.0, 25.0, 30.0, 35.0, 40.0], \"y\": [1.7, 1.9, 2.2, 2.6, 3.0, 3.4, 3.9, 4.3, 4.5, 4.8, 4.6, 4.4, 4.2, 4.1]}, {\"name\": \"160F SET TEMP\", \"type\": \"scatter\", \"x\": [-25.0, -20.0, -15.0, -10.0, -5.0, 0.0, 5.0, 10.0, 15.0, 20.0, 25.0, 30.0, 35.0, 40.0], \"y\": [1.5, 1.9, 2.1, 2.5, 2.9, 3.3, 3.7, 4.0, 4.2, 4.3, 4.3, 4.2, 4.1, 4.0]}],\n",
       "                        {\"annotations\": [{\"text\": \"COP 5.2\", \"x\": 20, \"y\": 5.2}], \"template\": {\"data\": {\"bar\": [{\"error_x\": {\"color\": \"#2a3f5f\"}, \"error_y\": {\"color\": \"#2a3f5f\"}, \"marker\": {\"line\": {\"color\": \"#E5ECF6\", \"width\": 0.5}}, \"type\": \"bar\"}], \"barpolar\": [{\"marker\": {\"line\": {\"color\": \"#E5ECF6\", \"width\": 0.5}}, \"type\": \"barpolar\"}], \"carpet\": [{\"aaxis\": {\"endlinecolor\": \"#2a3f5f\", \"gridcolor\": \"white\", \"linecolor\": \"white\", \"minorgridcolor\": \"white\", \"startlinecolor\": \"#2a3f5f\"}, \"baxis\": {\"endlinecolor\": \"#2a3f5f\", \"gridcolor\": \"white\", \"linecolor\": \"white\", \"minorgridcolor\": \"white\", \"startlinecolor\": \"#2a3f5f\"}, \"type\": \"carpet\"}], \"choropleth\": [{\"colorbar\": {\"outlinewidth\": 0, \"ticks\": \"\"}, \"type\": \"choropleth\"}], \"contour\": [{\"colorbar\": {\"outlinewidth\": 0, \"ticks\": \"\"}, \"colorscale\": [[0.0, \"#0d0887\"], [0.1111111111111111, \"#46039f\"], [0.2222222222222222, \"#7201a8\"], [0.3333333333333333, \"#9c179e\"], [0.4444444444444444, \"#bd3786\"], [0.5555555555555556, \"#d8576b\"], [0.6666666666666666, \"#ed7953\"], [0.7777777777777778, \"#fb9f3a\"], [0.8888888888888888, \"#fdca26\"], [1.0, \"#f0f921\"]], \"type\": \"contour\"}], \"contourcarpet\": [{\"colorbar\": {\"outlinewidth\": 0, \"ticks\": \"\"}, \"type\": \"contourcarpet\"}], \"heatmap\": [{\"colorbar\": {\"outlinewidth\": 0, \"ticks\": \"\"}, \"colorscale\": [[0.0, \"#0d0887\"], [0.1111111111111111, \"#46039f\"], [0.2222222222222222, \"#7201a8\"], [0.3333333333333333, \"#9c179e\"], [0.4444444444444444, \"#bd3786\"], [0.5555555555555556, \"#d8576b\"], [0.6666666666666666, \"#ed7953\"], [0.7777777777777778, \"#fb9f3a\"], [0.8888888888888888, \"#fdca26\"], [1.0, \"#f0f921\"]], \"type\": \"heatmap\"}], \"heatmapgl\": [{\"colorbar\": {\"outlinewidth\": 0, \"ticks\": \"\"}, \"colorscale\": [[0.0, \"#0d0887\"], [0.1111111111111111, \"#46039f\"], [0.2222222222222222, \"#7201a8\"], [0.3333333333333333, \"#9c179e\"], [0.4444444444444444, \"#bd3786\"], [0.5555555555555556, \"#d8576b\"], [0.6666666666666666, \"#ed7953\"], [0.7777777777777778, \"#fb9f3a\"], [0.8888888888888888, \"#fdca26\"], [1.0, \"#f0f921\"]], \"type\": \"heatmapgl\"}], \"histogram\": [{\"marker\": {\"colorbar\": {\"outlinewidth\": 0, \"ticks\": \"\"}}, \"type\": \"histogram\"}], \"histogram2d\": [{\"colorbar\": {\"outlinewidth\": 0, \"ticks\": \"\"}, \"colorscale\": [[0.0, \"#0d0887\"], [0.1111111111111111, \"#46039f\"], [0.2222222222222222, \"#7201a8\"], [0.3333333333333333, \"#9c179e\"], [0.4444444444444444, \"#bd3786\"], [0.5555555555555556, \"#d8576b\"], [0.6666666666666666, \"#ed7953\"], [0.7777777777777778, \"#fb9f3a\"], [0.8888888888888888, \"#fdca26\"], [1.0, \"#f0f921\"]], \"type\": \"histogram2d\"}], \"histogram2dcontour\": [{\"colorbar\": {\"outlinewidth\": 0, \"ticks\": \"\"}, \"colorscale\": [[0.0, \"#0d0887\"], [0.1111111111111111, \"#46039f\"], [0.2222222222222222, \"#7201a8\"], [0.3333333333333333, \"#9c179e\"], [0.4444444444444444, \"#bd3786\"], [0.5555555555555556, \"#d8576b\"], [0.6666666666666666, \"#ed7953\"], [0.7777777777777778, \"#fb9f3a\"], [0.8888888888888888, \"#fdca26\"], [1.0, \"#f0f921\"]], \"type\": \"histogram2dcontour\"}], \"mesh3d\": [{\"colorbar\": {\"outlinewidth\": 0, \"ticks\": \"\"}, \"type\": \"mesh3d\"}], \"parcoords\": [{\"line\": {\"colorbar\": {\"outlinewidth\": 0, \"ticks\": \"\"}}, \"type\": \"parcoords\"}], \"pie\": [{\"automargin\": true, \"type\": \"pie\"}], \"scatter\": [{\"marker\": {\"colorbar\": {\"outlinewidth\": 0, \"ticks\": \"\"}}, \"type\": \"scatter\"}], \"scatter3d\": [{\"line\": {\"colorbar\": {\"outlinewidth\": 0, \"ticks\": \"\"}}, \"marker\": {\"colorbar\": {\"outlinewidth\": 0, \"ticks\": \"\"}}, \"type\": \"scatter3d\"}], \"scattercarpet\": [{\"marker\": {\"colorbar\": {\"outlinewidth\": 0, \"ticks\": \"\"}}, \"type\": \"scattercarpet\"}], \"scattergeo\": [{\"marker\": {\"colorbar\": {\"outlinewidth\": 0, \"ticks\": \"\"}}, \"type\": \"scattergeo\"}], \"scattergl\": [{\"marker\": {\"colorbar\": {\"outlinewidth\": 0, \"ticks\": \"\"}}, \"type\": \"scattergl\"}], \"scattermapbox\": [{\"marker\": {\"colorbar\": {\"outlinewidth\": 0, \"ticks\": \"\"}}, \"type\": \"scattermapbox\"}], \"scatterpolar\": [{\"marker\": {\"colorbar\": {\"outlinewidth\": 0, \"ticks\": \"\"}}, \"type\": \"scatterpolar\"}], \"scatterpolargl\": [{\"marker\": {\"colorbar\": {\"outlinewidth\": 0, \"ticks\": \"\"}}, \"type\": \"scatterpolargl\"}], \"scatterternary\": [{\"marker\": {\"colorbar\": {\"outlinewidth\": 0, \"ticks\": \"\"}}, \"type\": \"scatterternary\"}], \"surface\": [{\"colorbar\": {\"outlinewidth\": 0, \"ticks\": \"\"}, \"colorscale\": [[0.0, \"#0d0887\"], [0.1111111111111111, \"#46039f\"], [0.2222222222222222, \"#7201a8\"], [0.3333333333333333, \"#9c179e\"], [0.4444444444444444, \"#bd3786\"], [0.5555555555555556, \"#d8576b\"], [0.6666666666666666, \"#ed7953\"], [0.7777777777777778, \"#fb9f3a\"], [0.8888888888888888, \"#fdca26\"], [1.0, \"#f0f921\"]], \"type\": \"surface\"}], \"table\": [{\"cells\": {\"fill\": {\"color\": \"#EBF0F8\"}, \"line\": {\"color\": \"white\"}}, \"header\": {\"fill\": {\"color\": \"#C8D4E3\"}, \"line\": {\"color\": \"white\"}}, \"type\": \"table\"}]}, \"layout\": {\"annotationdefaults\": {\"arrowcolor\": \"#2a3f5f\", \"arrowhead\": 0, \"arrowwidth\": 1}, \"coloraxis\": {\"colorbar\": {\"outlinewidth\": 0, \"ticks\": \"\"}}, \"colorscale\": {\"diverging\": [[0, \"#8e0152\"], [0.1, \"#c51b7d\"], [0.2, \"#de77ae\"], [0.3, \"#f1b6da\"], [0.4, \"#fde0ef\"], [0.5, \"#f7f7f7\"], [0.6, \"#e6f5d0\"], [0.7, \"#b8e186\"], [0.8, \"#7fbc41\"], [0.9, \"#4d9221\"], [1, \"#276419\"]], \"sequential\": [[0.0, \"#0d0887\"], [0.1111111111111111, \"#46039f\"], [0.2222222222222222, \"#7201a8\"], [0.3333333333333333, \"#9c179e\"], [0.4444444444444444, \"#bd3786\"], [0.5555555555555556, \"#d8576b\"], [0.6666666666666666, \"#ed7953\"], [0.7777777777777778, \"#fb9f3a\"], [0.8888888888888888, \"#fdca26\"], [1.0, \"#f0f921\"]], \"sequentialminus\": [[0.0, \"#0d0887\"], [0.1111111111111111, \"#46039f\"], [0.2222222222222222, \"#7201a8\"], [0.3333333333333333, \"#9c179e\"], [0.4444444444444444, \"#bd3786\"], [0.5555555555555556, \"#d8576b\"], [0.6666666666666666, \"#ed7953\"], [0.7777777777777778, \"#fb9f3a\"], [0.8888888888888888, \"#fdca26\"], [1.0, \"#f0f921\"]]}, \"colorway\": [\"#636efa\", \"#EF553B\", \"#00cc96\", \"#ab63fa\", \"#FFA15A\", \"#19d3f3\", \"#FF6692\", \"#B6E880\", \"#FF97FF\", \"#FECB52\"], \"font\": {\"color\": \"#2a3f5f\"}, \"geo\": {\"bgcolor\": \"white\", \"lakecolor\": \"white\", \"landcolor\": \"#E5ECF6\", \"showlakes\": true, \"showland\": true, \"subunitcolor\": \"white\"}, \"hoverlabel\": {\"align\": \"left\"}, \"hovermode\": \"closest\", \"mapbox\": {\"style\": \"light\"}, \"paper_bgcolor\": \"white\", \"plot_bgcolor\": \"#E5ECF6\", \"polar\": {\"angularaxis\": {\"gridcolor\": \"white\", \"linecolor\": \"white\", \"ticks\": \"\"}, \"bgcolor\": \"#E5ECF6\", \"radialaxis\": {\"gridcolor\": \"white\", \"linecolor\": \"white\", \"ticks\": \"\"}}, \"scene\": {\"xaxis\": {\"backgroundcolor\": \"#E5ECF6\", \"gridcolor\": \"white\", \"gridwidth\": 2, \"linecolor\": \"white\", \"showbackground\": true, \"ticks\": \"\", \"zerolinecolor\": \"white\"}, \"yaxis\": {\"backgroundcolor\": \"#E5ECF6\", \"gridcolor\": \"white\", \"gridwidth\": 2, \"linecolor\": \"white\", \"showbackground\": true, \"ticks\": \"\", \"zerolinecolor\": \"white\"}, \"zaxis\": {\"backgroundcolor\": \"#E5ECF6\", \"gridcolor\": \"white\", \"gridwidth\": 2, \"linecolor\": \"white\", \"showbackground\": true, \"ticks\": \"\", \"zerolinecolor\": \"white\"}}, \"shapedefaults\": {\"line\": {\"color\": \"#2a3f5f\"}}, \"ternary\": {\"aaxis\": {\"gridcolor\": \"white\", \"linecolor\": \"white\", \"ticks\": \"\"}, \"baxis\": {\"gridcolor\": \"white\", \"linecolor\": \"white\", \"ticks\": \"\"}, \"bgcolor\": \"#E5ECF6\", \"caxis\": {\"gridcolor\": \"white\", \"linecolor\": \"white\", \"ticks\": \"\"}}, \"title\": {\"x\": 0.05}, \"xaxis\": {\"automargin\": true, \"gridcolor\": \"white\", \"linecolor\": \"white\", \"ticks\": \"\", \"title\": {\"standoff\": 15}, \"zerolinecolor\": \"white\", \"zerolinewidth\": 2}, \"yaxis\": {\"automargin\": true, \"gridcolor\": \"white\", \"linecolor\": \"white\", \"ticks\": \"\", \"title\": {\"standoff\": 15}, \"zerolinecolor\": \"white\", \"zerolinewidth\": 2}}}, \"title\": {\"text\": \"HEAT PUMP COP w.r.t AMBIENT TEMPERATURE\"}, \"xaxis\": {\"title\": {\"text\": \"Outside Temperature [F]\"}}, \"yaxis\": {\"title\": {\"text\": \"COP\"}}},\n",
       "                        {\"responsive\": true}\n",
       "                    ).then(function(){\n",
       "                            \n",
       "var gd = document.getElementById('45e53bd9-96c8-4c2e-a240-d5667cab0535');\n",
       "var x = new MutationObserver(function (mutations, observer) {{\n",
       "        var display = window.getComputedStyle(gd).display;\n",
       "        if (!display || display === 'none') {{\n",
       "            console.log([gd, 'removed!']);\n",
       "            Plotly.purge(gd);\n",
       "            observer.disconnect();\n",
       "        }}\n",
       "}});\n",
       "\n",
       "// Listen for the removal of the full notebook cells\n",
       "var notebookContainer = gd.closest('#notebook-container');\n",
       "if (notebookContainer) {{\n",
       "    x.observe(notebookContainer, {childList: true});\n",
       "}}\n",
       "\n",
       "// Listen for the clearing of the current output cell\n",
       "var outputEl = gd.closest('.output');\n",
       "if (outputEl) {{\n",
       "    x.observe(outputEl, {childList: true});\n",
       "}}\n",
       "\n",
       "                        })\n",
       "                };\n",
       "                });\n",
       "            </script>\n",
       "        </div>"
      ]
     },
     "metadata": {},
     "output_type": "display_data"
    }
   ],
   "source": [
    "# SANDEN HEAT PUMP CURVE FIT\n",
    "# CURVE \n",
    "# Data taken from SANDEN tests run on their SANCO2 highly efficient heat pumps\n",
    "T = [-13, -4, 5, 14, 23, 32, 41, 50, 59, 68, 77, 86, 95, 104]\n",
    "cop_140F = [1.7, 2.0, 2.2, 2.5, 2.9, 3.2, 3.9, 4.7, 4.8, 5.2, 5.0, 4.6, 4.3, 4.0]\n",
    "cop_150F = [1.7, 1.9, 2.2, 2.6, 3.0, 3.4, 3.9, 4.3, 4.5, 4.8, 4.6, 4.4, 4.2, 4.1]\n",
    "cop_160F = [1.5, 1.9, 2.1, 2.5, 2.9, 3.3, 3.7, 4.0, 4.2, 4.3, 4.3, 4.2, 4.1, 4.0]\n",
    "\n",
    "df = pd.DataFrame(list(zip(T, cop_140F, cop_150F, cop_160F)), \n",
    "                  columns = ['ambient_F', '140F', '150F', '160F'])\n",
    "\n",
    "df['ambient_C'] = to_C(df['ambient_F'])\n",
    "\n",
    "fig = go.Figure()\n",
    "\n",
    "\n",
    "fig.add_trace(go.Scatter(x = df['ambient_C'].tolist(), y = cop_140F, name = '140F SET TEMP'))\n",
    "fig.add_trace(go.Scatter(x = df['ambient_C'].tolist(), y = cop_150F, name = '150F SET TEMP'))\n",
    "fig.add_trace(go.Scatter(x = df['ambient_C'].tolist(), y = cop_160F, name = '160F SET TEMP'))\n",
    "\n",
    "fig.add_annotation(y=max(cop_140F), x = 20, text = 'COP 5.2')\n",
    "\n",
    "fig.update_layout(title='HEAT PUMP COP w.r.t AMBIENT TEMPERATURE')\n",
    "fig.layout.xaxis.title = 'Outside Temperature [F]'\n",
    "fig.layout.yaxis.title = 'COP'\n",
    "\n",
    "fig.show()"
   ]
  },
  {
   "cell_type": "code",
   "execution_count": 13,
   "metadata": {},
   "outputs": [
    {
     "name": "stdout",
     "output_type": "stream",
     "text": [
      "[ 3.61675824e+00  6.29945053e-02 -1.18131867e-03]\n"
     ]
    },
    {
     "data": {
      "image/png": "[encoded data removed]",
      "text/plain": [
       "<Figure size 720x432 with 1 Axes>"
      ]
     },
     "metadata": {
      "needs_background": "light"
     },
     "output_type": "display_data"
    }
   ],
   "source": [
    "# in the interest of learning, let's figure this out. here's a straight line fit\n",
    "\n",
    "# now I have my data, should fit it to a curve. \n",
    "\n",
    "\n",
    "def func(x, a, b, c):\n",
    "    return (a + (b*np.array(x)) + (c*(np.array(x)**2)))\n",
    "    # form y = a + bx + cx^2\n",
    "\n",
    "xdata = df['ambient_C'].tolist()\n",
    "ydata = df['150F'].tolist()\n",
    "ydata2 = df['160F'].tolist()\n",
    "ydata3 = df['140F'].tolist()\n",
    "\n",
    "params, params_covariance = optimize.curve_fit(func, xdata, ydata, p0=[100,20, 10])\n",
    "params2, params_covariance2 = optimize.curve_fit(func, xdata, ydata2, p0=[100,20, 10])\n",
    "params3, params_covariance3 = optimize.curve_fit(func, xdata, ydata3, p0=[100,20,10])\n",
    "\n",
    "print(params)\n",
    "\n",
    "plt.figure(figsize=(10,6))\n",
    "\n",
    "plt.scatter(xdata, ydata, label ='Data150')\n",
    "plt.scatter(xdata, ydata2, label ='Data160')\n",
    "plt.scatter(xdata, ydata3, label ='Data140')\n",
    "plt.plot(xdata, func(xdata, params[0], params[1], params[2]), label = 'fit 150')\n",
    "plt.plot(xdata, func(xdata, params2[0], params2[1], params2[2]), label = 'fit 160')\n",
    "plt.plot(xdata, func(xdata, params3[0], params3[1], params3[2]), label = 'fit 140')\n",
    "\n",
    "plt.xlabel\n",
    "plt.legend(loc='best')\n",
    "\n",
    "plt.show()\n",
    "\n",
    "# close enough. "
   ]
  },
  {
   "cell_type": "markdown",
   "metadata": {},
   "source": [
    "### What we need: \n",
    "We need to generate a realistic equation for calculating COP based on EWT and LWT, given some GPM and T-s diagram for the refrigerant used. \n",
    "\n",
    "\n",
    "\n",
    "For reference here's the T-s diagram for CO2\n",
    "\n",
    "![](co2TS.png)"
   ]
  },
  {
   "cell_type": "code",
   "execution_count": null,
   "metadata": {},
   "outputs": [],
   "source": []
  },
  {
   "cell_type": "code",
   "execution_count": null,
   "metadata": {},
   "outputs": [],
   "source": []
  }
 ],
 "metadata": {
  "kernelspec": {
   "display_name": "Python 3",
   "language": "python",
   "name": "python3"
  },
  "language_info": {
   "codemirror_mode": {
    "name": "ipython",
    "version": 3
   },
   "file_extension": ".py",
   "mimetype": "text/x-python",
   "name": "python",
   "nbconvert_exporter": "python",
   "pygments_lexer": "ipython3",
   "version": "3.7.6"
  }
 },
 "nbformat": 4,
 "nbformat_minor": 4
}
